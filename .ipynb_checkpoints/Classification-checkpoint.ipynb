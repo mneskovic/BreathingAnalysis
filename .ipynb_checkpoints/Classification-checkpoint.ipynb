{
 "cells": [
  {
   "cell_type": "code",
   "execution_count": 2,
   "metadata": {},
   "outputs": [
    {
     "name": "stderr",
     "output_type": "stream",
     "text": [
      "In /home/mneskovic/anaconda3/envs/AudioAnalysis/lib/python3.6/site-packages/matplotlib/mpl-data/stylelib/_classic_test.mplstyle: \n",
      "The text.latex.preview rcparam was deprecated in Matplotlib 3.3 and will be removed two minor releases later.\n",
      "In /home/mneskovic/anaconda3/envs/AudioAnalysis/lib/python3.6/site-packages/matplotlib/mpl-data/stylelib/_classic_test.mplstyle: \n",
      "The mathtext.fallback_to_cm rcparam was deprecated in Matplotlib 3.3 and will be removed two minor releases later.\n",
      "In /home/mneskovic/anaconda3/envs/AudioAnalysis/lib/python3.6/site-packages/matplotlib/mpl-data/stylelib/_classic_test.mplstyle: Support for setting the 'mathtext.fallback_to_cm' rcParam is deprecated since 3.3 and will be removed two minor releases later; use 'mathtext.fallback : 'cm' instead.\n",
      "In /home/mneskovic/anaconda3/envs/AudioAnalysis/lib/python3.6/site-packages/matplotlib/mpl-data/stylelib/_classic_test.mplstyle: \n",
      "The validate_bool_maybe_none function was deprecated in Matplotlib 3.3 and will be removed two minor releases later.\n",
      "In /home/mneskovic/anaconda3/envs/AudioAnalysis/lib/python3.6/site-packages/matplotlib/mpl-data/stylelib/_classic_test.mplstyle: \n",
      "The savefig.jpeg_quality rcparam was deprecated in Matplotlib 3.3 and will be removed two minor releases later.\n",
      "In /home/mneskovic/anaconda3/envs/AudioAnalysis/lib/python3.6/site-packages/matplotlib/mpl-data/stylelib/_classic_test.mplstyle: \n",
      "The keymap.all_axes rcparam was deprecated in Matplotlib 3.3 and will be removed two minor releases later.\n",
      "In /home/mneskovic/anaconda3/envs/AudioAnalysis/lib/python3.6/site-packages/matplotlib/mpl-data/stylelib/_classic_test.mplstyle: \n",
      "The animation.avconv_path rcparam was deprecated in Matplotlib 3.3 and will be removed two minor releases later.\n",
      "In /home/mneskovic/anaconda3/envs/AudioAnalysis/lib/python3.6/site-packages/matplotlib/mpl-data/stylelib/_classic_test.mplstyle: \n",
      "The animation.avconv_args rcparam was deprecated in Matplotlib 3.3 and will be removed two minor releases later.\n"
     ]
    }
   ],
   "source": [
    "from pyAudioAnalysis import audioTrainTest as aT\n",
    "from pyAudioAnalysis import audioSegmentation\n",
    "from pydub import AudioSegment\n",
    "from pyAudioAnalysis import audioBasicIO as aIO\n",
    "from pyAudioAnalysis import audioSegmentation as aS"
   ]
  },
  {
   "cell_type": "code",
   "execution_count": 3,
   "metadata": {},
   "outputs": [
    {
     "name": "stdout",
     "output_type": "stream",
     "text": [
      "trainSVM_feature ERROR: No data found in any input folder!\n"
     ]
    }
   ],
   "source": [
    "aT.extract_features_and_train([\"data/split/exhale\",\"data/split/inhale\"], 1.0, 1.0, aT.shortTermWindow, aT.shortTermStep, \"svm\", \"svmSMtemp\", False)"
   ]
  },
  {
   "cell_type": "code",
   "execution_count": 27,
   "metadata": {},
   "outputs": [
    {
     "data": {
      "text/plain": [
       "(0.0, array([0.70988525, 0.29011475]), ['exhale', 'inhale'])"
      ]
     },
     "execution_count": 27,
     "metadata": {},
     "output_type": "execute_result"
    }
   ],
   "source": [
    "aT.file_classification(\"New Recording 4.wav\", \"svmSMtemp\",\"svm\")"
   ]
  },
  {
   "cell_type": "code",
   "execution_count": 31,
   "metadata": {},
   "outputs": [
    {
     "data": {
      "image/png": "[encoded data removed]",
      "text/plain": [
       "<Figure size 432x288 with 2 Axes>"
      ]
     },
     "metadata": {
      "needs_background": "light"
     },
     "output_type": "display_data"
    },
    {
     "data": {
      "text/plain": [
       "[[1.2, 2.52], [3.02, 4.0], [4.74, 6.38], [6.7, 8.22], [8.5, 10.5]]"
      ]
     },
     "execution_count": 31,
     "metadata": {},
     "output_type": "execute_result"
    }
   ],
   "source": [
    "\n",
    "[Fs, x] = aIO.read_audio_file(\"New Recording 6.wav\")\n",
    "segments = aS.silence_removal(x, Fs, 0.020, 0.020, smooth_window = 1, weight = 0.3, plot = True)\n",
    "segments"
   ]
  },
  {
   "cell_type": "code",
   "execution_count": 32,
   "metadata": {},
   "outputs": [],
   "source": [
    "oldAudio = AudioSegment.from_wav(\"New Recording 6.wav\")\n",
    "ct = 1\n",
    "for segment in segments:\n",
    "    newAudio = oldAudio[segment[0]*1000:segment[1]*1000]\n",
    "    newAudio.export('test'+str(ct)+'.wav', format=\"wav\")\n",
    "    ct += 1"
   ]
  },
  {
   "cell_type": "code",
   "execution_count": 34,
   "metadata": {},
   "outputs": [
    {
     "name": "stdout",
     "output_type": "stream",
     "text": [
      "[1.67933483e-05 9.99983207e-01]\n",
      "[0.02917732 0.97082268]\n",
      "[0.05597814 0.94402186]\n",
      "[0.11911105 0.88088895]\n",
      "[0.04863726 0.95136274]\n"
     ]
    }
   ],
   "source": [
    "for i in range(1, 6):\n",
    "    print(aT.file_classification(\"test\" + str(i) + '.wav', \"svmSMtemp\",\"svm\")[1])"
   ]
  },
  {
   "cell_type": "code",
   "execution_count": 7,
   "metadata": {},
   "outputs": [],
   "source": []
  },
  {
   "cell_type": "code",
   "execution_count": null,
   "metadata": {},
   "outputs": [],
   "source": []
  },
  {
   "cell_type": "code",
   "execution_count": null,
   "metadata": {},
   "outputs": [],
   "source": []
  }
 ],
 "metadata": {
  "kernelspec": {
   "display_name": "AudioAnalysis",
   "language": "python",
   "name": "audioanalysis"
  },
  "language_info": {
   "codemirror_mode": {
    "name": "ipython",
    "version": 3
   },
   "file_extension": ".py",
   "mimetype": "text/x-python",
   "name": "python",
   "nbconvert_exporter": "python",
   "pygments_lexer": "ipython3",
   "version": "3.6.13"
  }
 },
 "nbformat": 4,
 "nbformat_minor": 4
}
